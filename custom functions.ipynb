{
 "cells": [
  {
   "cell_type": "markdown",
   "metadata": {},
   "source": [
    "\n",
    "In this notebook, I've developed several helper functions to enhance the creation of visualizations and enhance the overall code's clarity. These functions were pivotal in streamlining the visualization process for presenting model results.\n",
    "\n",
    "The creation of these helper functions has simplified the generation of intricate visualizations, allowing me to dedicate less time to coding and more time to in-depth data analysis. Furthermore, these functions contribute to code modularity, making it more comprehensible by breaking down complex operations into smaller, more manageable segments. Without these functions, the visualization process would be both more laborious and time-intensive."
   ]
  },
  {
   "cell_type": "code",
   "execution_count": 1,
   "metadata": {},
   "outputs": [],
   "source": [
    "def create_pie_chart(dataframe, column_name):\n",
    "    plot_df = dataframe[column_name].value_counts()\n",
    "    plot_df.plot(kind=\"pie\")\n",
    "    plt.show() # a pie chart function "
   ]
  },
  {
   "cell_type": "code",
   "execution_count": 2,
   "metadata": {},
   "outputs": [],
   "source": [
    "def create_barplot(dataframe, column_name):\n",
    "    color = sns.color_palette()\n",
    "    int_level = dataframe[column_name].value_counts()\n",
    "    plt.figure(figsize=(8,4))\n",
    "    sns.barplot(int_level.index, int_level.values, alpha=0.8, color=color[1])\n",
    "    plt.ylabel('Number of Occurrences', fontsize=12)\n",
    "    plt.xlabel('column_name', fontsize=12)\n",
    "    plt.show()"
   ]
  },
  {
   "cell_type": "code",
   "execution_count": 4,
   "metadata": {},
   "outputs": [],
   "source": [
    "def create_freq_tables(dataframe, column_name,desc):\n",
    "    # one way frequency table for the species column. \n",
    "    freq_table = pd.crosstab(dataframe[column_name], desc) # desc: description of the proportioon column \n",
    "  \n",
    "    # frequency table in proportion of species \n",
    "    freq_table= freq_table/len(dataframe) \n",
    "    print(freq_table)"
   ]
  },
  {
   "cell_type": "markdown",
   "metadata": {},
   "source": [
    "Below I define a \"my_catplot\" function and a \"my_histplot\" function.I used these two fuctions in the \"fraud detection\" project.\n",
    "\n",
    "my_catplot is a function to create separate bars within each category in the plot. For instance, I can plot the distribution of categorical variable within the outcome = 1 category. \n",
    "\n",
    "my_histplot is a function to create separate histgrams for different categories. This allows us to visualize the distributiono of numeric data within different groups (outcome =1 or 0). It can be particularly useful when we want to compare the distributions of two or more groups. "
   ]
  },
  {
   "cell_type": "code",
   "execution_count": null,
   "metadata": {},
   "outputs": [],
   "source": [
    "def my_catplot(dataframe, column_name,feature=None, ax=None):\n",
    "    sns.countplot(data=dataframe[:100000], x=feature, hue=column_name, palette=(palette[0], palette[-1]), ax=ax)\n",
    "    ax.set_xlabel('Number of Observations')\n",
    "    ax.set_ylabel(f'{feature}')\n",
    "\n",
    "def my_histplot(dataframe, column_name,feature=None, ax=None):\n",
    "    sns.histplot(data=dataframe[:100000], \n",
    "                         x=feature, \n",
    "                         hue=column_name, \n",
    "                         kde=True, \n",
    "                         element='step', \n",
    "                         palette=(palette[0], \n",
    "                                  palette[-1]), \n",
    "                         ax=ax,\n",
    "                         log_scale=True)\n",
    "    ax.set_ylabel('Number of Observations')\n",
    "    ax.set_xlabel(f'{feature}')\n",
    "    mean_value_f = dataframe[dataframe[column_name]==False][feature].mean()\n",
    "    mean_value_t = dataframe[dataframe[column_name]==True][feature].mean()\n",
    "    ax.axvline(x=mean_value_f, \n",
    "               color=palette[0])\n",
    "    ax.axvline(x=mean_value_t, \n",
    "                color=palette[-1])\n",
    "    ax.annotate(f'Mean {feature}\\n for regular transactions: ${mean_value_f:,.2f}', \n",
    "                 xy=(0.1, 0.5),\n",
    "                 xycoords='axes fraction',\n",
    "                 font='roboto',\n",
    "                 fontstyle='italic')\n",
    "    ax.annotate(f'Mean {feature}\\n for fraudulent transactions: ${mean_value_t:,.2f}', \n",
    "                 xy=(0.1, 0.3),\n",
    "                 xycoords='axes fraction',\n",
    "                 font='roboto',\n",
    "                 fontstyle='italic')\n",
    "    "
   ]
  }
 ],
 "metadata": {
  "kernelspec": {
   "display_name": "Python 3",
   "language": "python",
   "name": "python3"
  },
  "language_info": {
   "codemirror_mode": {
    "name": "ipython",
    "version": 3
   },
   "file_extension": ".py",
   "mimetype": "text/x-python",
   "name": "python",
   "nbconvert_exporter": "python",
   "pygments_lexer": "ipython3",
   "version": "3.8.5"
  }
 },
 "nbformat": 4,
 "nbformat_minor": 4
}
