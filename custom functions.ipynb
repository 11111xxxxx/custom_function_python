{
 "cells": [
  {
   "cell_type": "markdown",
   "metadata": {},
   "source": [
    "\n",
    "In this notebook, I've developed several helper functions to enhance the creation of visualizations and enhance the overall code's clarity. These functions were pivotal in streamlining the visualization process for presenting model results.\n",
    "\n",
    "The creation of these helper functions has simplified the generation of intricate visualizations, allowing me to dedicate less time to coding and more time to in-depth data analysis. Furthermore, these functions contribute to code modularity, making it more comprehensible by breaking down complex operations into smaller, more manageable segments. Without these functions, the visualization process would be both more laborious and time-intensive."
   ]
  },
  {
   "cell_type": "code",
   "execution_count": 1,
   "metadata": {},
   "outputs": [],
   "source": [
    "def create_pie_chart(dataframe, column_name):\n",
    "    plot_df = dataframe[column_name].value_counts()\n",
    "    plot_df.plot(kind=\"pie\")\n",
    "    plt.show() # a pie chart function "
   ]
  },
  {
   "cell_type": "code",
   "execution_count": 2,
   "metadata": {},
   "outputs": [],
   "source": [
    "def create_barplot(dataframe, column_name):\n",
    "    color = sns.color_palette()\n",
    "    int_level = dataframe[column_name].value_counts()\n",
    "    plt.figure(figsize=(8,4))\n",
    "    sns.barplot(int_level.index, int_level.values, alpha=0.8, color=color[1])\n",
    "    plt.ylabel('Number of Occurrences', fontsize=12)\n",
    "    plt.xlabel('column_name', fontsize=12)\n",
    "    plt.show()"
   ]
  },
  {
   "cell_type": "code",
   "execution_count": 4,
   "metadata": {},
   "outputs": [],
   "source": [
    "def create_freq_tables(dataframe, column_name,desc):\n",
    "    # one way frequency table for the species column. \n",
    "    freq_table = pd.crosstab(dataframe[column_name], desc) # desc: description of the proportioon column \n",
    "  \n",
    "    # frequency table in proportion of species \n",
    "    freq_table= freq_table/len(dataframe) \n",
    "    print(freq_table)"
   ]
  }
 ],
 "metadata": {
  "kernelspec": {
   "display_name": "Python 3",
   "language": "python",
   "name": "python3"
  },
  "language_info": {
   "codemirror_mode": {
    "name": "ipython",
    "version": 3
   },
   "file_extension": ".py",
   "mimetype": "text/x-python",
   "name": "python",
   "nbconvert_exporter": "python",
   "pygments_lexer": "ipython3",
   "version": "3.8.5"
  }
 },
 "nbformat": 4,
 "nbformat_minor": 4
}
